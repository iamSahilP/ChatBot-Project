{
 "cells": [
  {
   "cell_type": "code",
   "execution_count": 1,
   "id": "6ad5e645",
   "metadata": {},
   "outputs": [],
   "source": [
    "import random\n",
    "import json\n",
    "import pickle\n",
    "import numpy as np\n"
   ]
  },
  {
   "cell_type": "code",
   "execution_count": 2,
   "id": "86a169fd",
   "metadata": {},
   "outputs": [],
   "source": [
    "import nltk\n",
    "import tensorflow as tf\n",
    "from nltk.stem import WordNetLemmatizer\n"
   ]
  },
  {
   "cell_type": "code",
   "execution_count": 3,
   "id": "21e85ae0",
   "metadata": {},
   "outputs": [],
   "source": [
    "lemmatizer = WordNetLemmatizer()\n",
    "\n",
    "intents = json.loads(open('intents.json').read())\n"
   ]
  },
  {
   "cell_type": "code",
   "execution_count": 4,
   "id": "cab1ed07",
   "metadata": {},
   "outputs": [],
   "source": [
    "words = [ ]\n",
    "classes = [ ]\n",
    "document = [ ]\n",
    "ignore_letters = ['?','!',',','.']"
   ]
  },
  {
   "cell_type": "code",
   "execution_count": 5,
   "id": "16c5948f",
   "metadata": {},
   "outputs": [],
   "source": [
    "for intent in intents[\"intents\"]:\n",
    "    for pattern in intent[\"patterns\"]:\n",
    "       word_list = nltk.word_tokenize(pattern)\n",
    "       words.extend(word_list)\n",
    "       document.append((word_list,intent[\"tag\"]))\n",
    "        \n",
    "       if intent[\"tag\"] not in classes:\n",
    "            classes.append(intent[\"tag\"])\n",
    "    \n",
    "    \n",
    "    \n",
    "# document\n",
    "# words\n",
    "# classes"
   ]
  },
  {
   "cell_type": "code",
   "execution_count": 6,
   "id": "1922d43b",
   "metadata": {
    "scrolled": true
   },
   "outputs": [],
   "source": [
    "# lemmatizer = WordNetLemmatizer()\n",
    "words = [ lemmatizer.lemmatize(word) for word in words if word not in ignore_letters ]\n",
    "words = sorted(set(words))\n",
    "# words\n",
    "classes = sorted(set(classes))\n",
    "pickle.dump(words, open('words.pkl', 'wb'))        \n",
    "pickle.dump(classes, open('classes.pkl', 'wb'))\n",
    "\n",
    "# classes\n",
    "# words"
   ]
  },
  {
   "cell_type": "code",
   "execution_count": 7,
   "id": "cdf1e269",
   "metadata": {},
   "outputs": [],
   "source": [
    "training = []\n",
    "outputEmpty = [0] * len(classes)\n",
    "\n",
    "for doc in document:\n",
    "    bag = []\n",
    "    wordPatterns = doc[0]\n",
    "    wordPatterns = [lemmatizer.lemmatize(word.lower()) for word in wordPatterns]\n",
    "    \n",
    "    for word in words:\n",
    "        bag.append(1) if word in wordPatterns else bag.append(0)\n",
    "\n",
    "    outputRow = list(outputEmpty)\n",
    "    outputRow[classes.index(doc[1])] = 1\n",
    "    training.append(bag+outputRow)\n",
    "\n",
    "# training\n",
    "# bag"
   ]
  },
  {
   "cell_type": "code",
   "execution_count": 8,
   "id": "ca9c3a67",
   "metadata": {},
   "outputs": [],
   "source": [
    "random.shuffle(training)\n",
    "training = np.array(training)\n",
    "\n",
    "# training.shape\n",
    "\n",
    "# trainX = training[:,0]\n",
    "# trainY = training[:,1]\n",
    "\n",
    "trainX = training[:, :len(words)]\n",
    "trainY = training[:, len(words):]\n",
    "# len(words)\n",
    "# trainX"
   ]
  },
  {
   "cell_type": "code",
   "execution_count": 9,
   "id": "f5ef2f3e",
   "metadata": {},
   "outputs": [],
   "source": [
    "model = tf.keras.Sequential()\n",
    "model.add(tf.keras.layers.Dense(128, input_shape=(len(trainX[0]),), activation = 'relu'))\n",
    "model.add(tf.keras.layers.Dropout(0.5))\n",
    "model.add(tf.keras.layers.Dense(64, activation = 'relu'))\n",
    "model.add(tf.keras.layers.Dropout(0.5))\n",
    "model.add(tf.keras.layers.Dense(len(trainY[0]), activation='softmax'))"
   ]
  },
  {
   "cell_type": "code",
   "execution_count": 10,
   "id": "1744f8a4",
   "metadata": {},
   "outputs": [],
   "source": [
    "# model = keras.sequential()"
   ]
  },
  {
   "cell_type": "code",
   "execution_count": 11,
   "id": "2ce02f6d",
   "metadata": {},
   "outputs": [],
   "source": [
    "sgd = tf.keras.optimizers.SGD(learning_rate=0.01, momentum=0.9, nesterov=True)\n",
    "model.compile(loss='categorical_crossentropy', optimizer=sgd, metrics=['accuracy'])"
   ]
  },
  {
   "cell_type": "code",
   "execution_count": 12,
   "id": "435c6aba",
   "metadata": {},
   "outputs": [],
   "source": [
    "model.fit(trainX, trainY, epochs=200, batch_size=10, verbose=1)\n",
    "model.save('chatbot.h5')\n",
    "print('Done')"
   ]
  }
 ],
 "metadata": {
  "kernelspec": {
   "display_name": "base",
   "language": "python",
   "name": "python3"
  },
  "language_info": {
   "codemirror_mode": {
    "name": "ipython",
    "version": 3
   },
   "file_extension": ".py",
   "mimetype": "text/x-python",
   "name": "python",
   "nbconvert_exporter": "python",
   "pygments_lexer": "ipython3",
   "version": "3.11.3"
  },
  "vscode": {
   "interpreter": {
    "hash": "3c06e3e46abf38078fe4dac36a0085ec2b134ebbd73dd076183d243eeca6918f"
   }
  }
 },
 "nbformat": 4,
 "nbformat_minor": 5
}
