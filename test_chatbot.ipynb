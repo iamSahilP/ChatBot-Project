{
 "cells": [
  {
   "cell_type": "code",
   "execution_count": 14,
   "id": "ddb4bb27",
   "metadata": {},
   "outputs": [],
   "source": [
    "import random\n",
    "import json\n",
    "import pickle\n",
    "import numpy as np\n",
    "\n",
    "import nltk\n",
    "from nltk import WordNetLemmatizer\n",
    "\n",
    "import tensorflow as tf\n",
    "from tensorflow.keras.models import load_model"
   ]
  },
  {
   "cell_type": "code",
   "execution_count": 15,
   "id": "96c2f469",
   "metadata": {},
   "outputs": [],
   "source": [
    "lemmatizer = WordNetLemmatizer()\n",
    "\n",
    "intents = json.loads(open('intents.json').read())"
   ]
  },
  {
   "cell_type": "code",
   "execution_count": 16,
   "id": "e17aca32",
   "metadata": {},
   "outputs": [],
   "source": [
    "words = pickle.load(open('words.pkl' , 'rb'))\n",
    "classes = pickle.load(open('classes.pkl' , 'rb'))\n",
    "\n",
    "model = load_model('chatbot.h5')\n",
    "\n"
   ]
  },
  {
   "cell_type": "code",
   "execution_count": null,
   "id": "247498ec",
   "metadata": {},
   "outputs": [
    {
     "name": "stdout",
     "output_type": "stream",
     "text": [
      "R2D2 Bot  is running \n",
      "hii\n",
      "1/1 [==============================] - 0s 84ms/step\n",
      "Hi there, how can I help?\n",
      "what is your name\n",
      "1/1 [==============================] - 0s 16ms/step\n",
      "You can call me S.\n",
      "what do you do\n",
      "1/1 [==============================] - 0s 16ms/step\n",
      "Cookies are on the menu!\n"
     ]
    }
   ],
   "source": [
    "def CleanSentence(sentence):\n",
    "#     lemmatizer = WordNetLemmatizer()\n",
    "#     Sentencewords = nltk.word_tokenize(sentence)\n",
    "    SentenceWords = nltk.word_tokenize(sentence)\n",
    "    SentenceWords = [lemmatizer.lemmatize(word) for word in SentenceWords]\n",
    "    return SentenceWords\n",
    "\n",
    "def Bag(sentence):\n",
    "    SentenceWords = CleanSentence(sentence)\n",
    "    bag = [0]*len(words)\n",
    "    for w in SentenceWords:\n",
    "        for i, word in enumerate(words):\n",
    "            if word == w:\n",
    "                bag[i] = 1\n",
    "    return np.array(bag)\n",
    "\n",
    "def predict(sentence):\n",
    "    \n",
    "    bag_words = Bag(sentence)\n",
    "    res = model.predict(np.array([bag_words]))[0]\n",
    "    MAX_ERROR = 0.25\n",
    "    \n",
    "    results = [[i,r] for i,r in  enumerate(res) if r > MAX_ERROR] \n",
    "    \n",
    "    results.sort(key = lambda x: x[1], reverse = True)\n",
    "    \n",
    "    ReturnList = []\n",
    "    \n",
    "    for r in results:\n",
    "        ReturnList.append({'intents' : classes[r[0]], 'probabilty': str(r[1]) })\n",
    "    \n",
    "    return ReturnList\n",
    "\n",
    "\n",
    "\n",
    "def GetResponse(intents_list , intents_json):\n",
    "    tag = intents_list[0]['intents']\n",
    "    list_of_intents = intents_json['intents']\n",
    "    for i in list_of_intents:\n",
    "        if i['tag'] == tag:\n",
    "            result = random.choice(i['responses'])\n",
    "            break\n",
    "    return result\n",
    "\n",
    "print(\"R2D2 Bot  is running \")\n",
    "\n",
    "while True:\n",
    "    message = input(\"\")\n",
    "    ints = predict(message)\n",
    "    res = GetResponse(ints,intents)\n",
    "    print(res)\n",
    "    \n",
    "    \n",
    "    \n",
    "        "
   ]
  }
 ],
 "metadata": {
  "kernelspec": {
   "display_name": "Python 3 (ipykernel)",
   "language": "python",
   "name": "python3"
  },
  "language_info": {
   "codemirror_mode": {
    "name": "ipython",
    "version": 3
   },
   "file_extension": ".py",
   "mimetype": "text/x-python",
   "name": "python",
   "nbconvert_exporter": "python",
   "pygments_lexer": "ipython3",
   "version": "3.11.3"
  }
 },
 "nbformat": 4,
 "nbformat_minor": 5
}
